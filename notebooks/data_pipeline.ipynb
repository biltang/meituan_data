{
 "cells": [
  {
   "cell_type": "code",
   "execution_count": 1,
   "id": "f7ea10dd-f6e4-4a4c-8101-f1d94b1593b1",
   "metadata": {},
   "outputs": [],
   "source": [
    "import pandas as pd\n",
    "import numpy as np\n",
    "from scipy.spatial.distance import cdist\n",
    "import os\n",
    "pd.set_option('display.max_columns', None)\n",
    "import seaborn as sns\n",
    "import matplotlib.pyplot as plt\n",
    "from datetime import datetime\n",
    "from sklearn.metrics.pairwise import haversine_distances\n",
    "import time\n",
    "from scipy.optimize import linear_sum_assignment\n",
    "\n",
    "import importlib\n",
    "import meituan"
   ]
  },
  {
   "cell_type": "code",
   "execution_count": 2,
   "id": "af0e4fae-771a-4b76-bf20-baab47bbeddf",
   "metadata": {},
   "outputs": [],
   "source": [
    "base_path = '/home1/yongpeng/meituan_data/'\n",
    "\n",
    "# waybill\n",
    "waybill = pd.read_csv(os.path.join(base_path, 'all_waybill_info_meituan_0322.csv'))\n",
    "time_cols = ['platform_order_time', 'order_push_time', 'dispatch_time', 'estimate_meal_prepare_time', 'estimate_arrived_time', 'grab_time', 'fetch_time', 'arrive_time']\n",
    "for t_col in time_cols:\n",
    "    waybill[t_col] = pd.to_datetime(waybill[t_col], unit='s')\n",
    "\n",
    "waybill = waybill.sort_values(by=['courier_id','dispatch_time', 'order_id'])\n",
    "\n",
    "# courier\n",
    "courier = pd.read_csv(os.path.join(base_path, 'courier_wave_info_meituan.csv'))\n",
    "for t_col in ['wave_start_time', 'wave_end_time']:\n",
    "    courier[t_col] = pd.to_datetime(courier[t_col], unit='s')\n",
    "    \n",
    "# rider\n",
    "rider = pd.read_csv(os.path.join(base_path, 'dispatch_rider_meituan.csv'))\n",
    "rider['dispatch_time'] = pd.to_datetime(rider['dispatch_time'], unit='s')\n",
    "\n",
    "# orders\n",
    "orders = pd.read_csv(os.path.join(base_path, 'dispatch_waybill_meituan.csv'))\n",
    "orders['dispatch_time'] = pd.to_datetime(orders['dispatch_time'], unit='s')"
   ]
  },
  {
   "cell_type": "code",
   "execution_count": 3,
   "id": "10e41c99-80b8-4a71-a41d-4d3072623ac5",
   "metadata": {},
   "outputs": [],
   "source": [
    "import meituan.pipeline.data\n",
    "importlib.reload(meituan.pipeline.data)\n",
    "from meituan.pipeline.data import upstream_pipeline, chunk_by_timeblocks, compare_chunk_id_overlap, haversine_distance_matrix\n"
   ]
  },
  {
   "cell_type": "code",
   "execution_count": 4,
   "id": "fc68f7c6-2911-4d08-bf2d-a9ebf0ebb9e3",
   "metadata": {},
   "outputs": [],
   "source": [
    "courier, orders = upstream_pipeline(waybill_df=waybill, save_folder='/home1/yongpeng/meituan_data/processed_data/base')"
   ]
  },
  {
   "cell_type": "code",
   "execution_count": 5,
   "id": "8a362011-fecb-4c3c-81b0-a56cabaf3362",
   "metadata": {},
   "outputs": [],
   "source": [
    "chunked_courier = chunk_by_timeblocks(df=courier,\n",
    "                                    time_col='time',\n",
    "                                    time_increment=pd.Timedelta('5min'),\n",
    "                                    start_time=pd.to_datetime('2022-10-16 16:00:00')\n",
    "                                     )\n",
    "\n",
    "chunked_orders = chunk_by_timeblocks(df=orders,\n",
    "                                    time_col='time',\n",
    "                                    time_increment=pd.Timedelta('5min'),\n",
    "                                    start_time=pd.to_datetime('2022-10-16 16:00:00')\n",
    "                                     )"
   ]
  },
  {
   "cell_type": "code",
   "execution_count": 6,
   "id": "319bdca2-8d6a-4b4a-b6a8-74630e484e16",
   "metadata": {},
   "outputs": [
    {
     "data": {
      "text/html": [
       "<div>\n",
       "<style scoped>\n",
       "    .dataframe tbody tr th:only-of-type {\n",
       "        vertical-align: middle;\n",
       "    }\n",
       "\n",
       "    .dataframe tbody tr th {\n",
       "        vertical-align: top;\n",
       "    }\n",
       "\n",
       "    .dataframe thead th {\n",
       "        text-align: right;\n",
       "    }\n",
       "</style>\n",
       "<table border=\"1\" class=\"dataframe\">\n",
       "  <thead>\n",
       "    <tr style=\"text-align: right;\">\n",
       "      <th></th>\n",
       "      <th>dt</th>\n",
       "      <th>time</th>\n",
       "      <th>courier_id</th>\n",
       "      <th>grab_lng</th>\n",
       "      <th>grab_lat</th>\n",
       "      <th>is_weekend</th>\n",
       "      <th>timeblock</th>\n",
       "      <th>timeblock_start</th>\n",
       "    </tr>\n",
       "  </thead>\n",
       "  <tbody>\n",
       "    <tr>\n",
       "      <th>101288</th>\n",
       "      <td>20221017</td>\n",
       "      <td>2022-10-16 16:03:18</td>\n",
       "      <td>4278</td>\n",
       "      <td>174.559879</td>\n",
       "      <td>45.863758</td>\n",
       "      <td>0</td>\n",
       "      <td>0</td>\n",
       "      <td>2022-10-16 16:00:00</td>\n",
       "    </tr>\n",
       "    <tr>\n",
       "      <th>101287</th>\n",
       "      <td>20221017</td>\n",
       "      <td>2022-10-16 16:01:46</td>\n",
       "      <td>1125</td>\n",
       "      <td>174.570278</td>\n",
       "      <td>45.907184</td>\n",
       "      <td>0</td>\n",
       "      <td>0</td>\n",
       "      <td>2022-10-16 16:00:00</td>\n",
       "    </tr>\n",
       "    <tr>\n",
       "      <th>52188</th>\n",
       "      <td>20221017</td>\n",
       "      <td>2022-10-16 16:00:48</td>\n",
       "      <td>247</td>\n",
       "      <td>174.556864</td>\n",
       "      <td>45.867384</td>\n",
       "      <td>1</td>\n",
       "      <td>0</td>\n",
       "      <td>2022-10-16 16:00:00</td>\n",
       "    </tr>\n",
       "    <tr>\n",
       "      <th>572298</th>\n",
       "      <td>20221017</td>\n",
       "      <td>2022-10-16 16:00:48</td>\n",
       "      <td>864</td>\n",
       "      <td>174.561019</td>\n",
       "      <td>45.895660</td>\n",
       "      <td>1</td>\n",
       "      <td>0</td>\n",
       "      <td>2022-10-16 16:00:00</td>\n",
       "    </tr>\n",
       "    <tr>\n",
       "      <th>333974</th>\n",
       "      <td>20221017</td>\n",
       "      <td>2022-10-16 16:04:48</td>\n",
       "      <td>3447</td>\n",
       "      <td>174.556816</td>\n",
       "      <td>45.895377</td>\n",
       "      <td>0</td>\n",
       "      <td>0</td>\n",
       "      <td>2022-10-16 16:00:00</td>\n",
       "    </tr>\n",
       "  </tbody>\n",
       "</table>\n",
       "</div>"
      ],
      "text/plain": [
       "              dt                time  courier_id    grab_lng   grab_lat  \\\n",
       "101288  20221017 2022-10-16 16:03:18        4278  174.559879  45.863758   \n",
       "101287  20221017 2022-10-16 16:01:46        1125  174.570278  45.907184   \n",
       "52188   20221017 2022-10-16 16:00:48         247  174.556864  45.867384   \n",
       "572298  20221017 2022-10-16 16:00:48         864  174.561019  45.895660   \n",
       "333974  20221017 2022-10-16 16:04:48        3447  174.556816  45.895377   \n",
       "\n",
       "        is_weekend  timeblock     timeblock_start  \n",
       "101288           0          0 2022-10-16 16:00:00  \n",
       "101287           0          0 2022-10-16 16:00:00  \n",
       "52188            1          0 2022-10-16 16:00:00  \n",
       "572298           1          0 2022-10-16 16:00:00  \n",
       "333974           0          0 2022-10-16 16:00:00  "
      ]
     },
     "metadata": {},
     "output_type": "display_data"
    },
    {
     "data": {
      "text/html": [
       "<div>\n",
       "<style scoped>\n",
       "    .dataframe tbody tr th:only-of-type {\n",
       "        vertical-align: middle;\n",
       "    }\n",
       "\n",
       "    .dataframe tbody tr th {\n",
       "        vertical-align: top;\n",
       "    }\n",
       "\n",
       "    .dataframe thead th {\n",
       "        text-align: right;\n",
       "    }\n",
       "</style>\n",
       "<table border=\"1\" class=\"dataframe\">\n",
       "  <thead>\n",
       "    <tr style=\"text-align: right;\">\n",
       "      <th></th>\n",
       "      <th>dt</th>\n",
       "      <th>time</th>\n",
       "      <th>order_id</th>\n",
       "      <th>sender_lng</th>\n",
       "      <th>sender_lat</th>\n",
       "      <th>da_id</th>\n",
       "      <th>poi_id</th>\n",
       "      <th>is_prebook</th>\n",
       "      <th>is_weekend</th>\n",
       "      <th>timeblock</th>\n",
       "      <th>timeblock_start</th>\n",
       "    </tr>\n",
       "  </thead>\n",
       "  <tbody>\n",
       "    <tr>\n",
       "      <th>159926</th>\n",
       "      <td>20221017</td>\n",
       "      <td>2022-10-16 16:02:52</td>\n",
       "      <td>152946</td>\n",
       "      <td>174.568380</td>\n",
       "      <td>45.860310</td>\n",
       "      <td>7</td>\n",
       "      <td>3305</td>\n",
       "      <td>0</td>\n",
       "      <td>0</td>\n",
       "      <td>0</td>\n",
       "      <td>2022-10-16 16:00:00</td>\n",
       "    </tr>\n",
       "    <tr>\n",
       "      <th>101287</th>\n",
       "      <td>20221017</td>\n",
       "      <td>2022-10-16 16:01:46</td>\n",
       "      <td>98318</td>\n",
       "      <td>174.581294</td>\n",
       "      <td>45.887569</td>\n",
       "      <td>13</td>\n",
       "      <td>1812</td>\n",
       "      <td>0</td>\n",
       "      <td>0</td>\n",
       "      <td>0</td>\n",
       "      <td>2022-10-16 16:00:00</td>\n",
       "    </tr>\n",
       "    <tr>\n",
       "      <th>497512</th>\n",
       "      <td>20221017</td>\n",
       "      <td>2022-10-16 16:03:56</td>\n",
       "      <td>443599</td>\n",
       "      <td>174.577346</td>\n",
       "      <td>45.863190</td>\n",
       "      <td>0</td>\n",
       "      <td>578</td>\n",
       "      <td>0</td>\n",
       "      <td>0</td>\n",
       "      <td>0</td>\n",
       "      <td>2022-10-16 16:00:00</td>\n",
       "    </tr>\n",
       "    <tr>\n",
       "      <th>389483</th>\n",
       "      <td>20221017</td>\n",
       "      <td>2022-10-16 16:04:06</td>\n",
       "      <td>354359</td>\n",
       "      <td>174.579970</td>\n",
       "      <td>45.860080</td>\n",
       "      <td>0</td>\n",
       "      <td>1116</td>\n",
       "      <td>0</td>\n",
       "      <td>0</td>\n",
       "      <td>0</td>\n",
       "      <td>2022-10-16 16:00:00</td>\n",
       "    </tr>\n",
       "    <tr>\n",
       "      <th>245425</th>\n",
       "      <td>20221017</td>\n",
       "      <td>2022-10-16 16:02:51</td>\n",
       "      <td>230133</td>\n",
       "      <td>174.578231</td>\n",
       "      <td>45.890111</td>\n",
       "      <td>13</td>\n",
       "      <td>825</td>\n",
       "      <td>0</td>\n",
       "      <td>0</td>\n",
       "      <td>0</td>\n",
       "      <td>2022-10-16 16:00:00</td>\n",
       "    </tr>\n",
       "  </tbody>\n",
       "</table>\n",
       "</div>"
      ],
      "text/plain": [
       "              dt                time  order_id  sender_lng  sender_lat  da_id  \\\n",
       "159926  20221017 2022-10-16 16:02:52    152946  174.568380   45.860310      7   \n",
       "101287  20221017 2022-10-16 16:01:46     98318  174.581294   45.887569     13   \n",
       "497512  20221017 2022-10-16 16:03:56    443599  174.577346   45.863190      0   \n",
       "389483  20221017 2022-10-16 16:04:06    354359  174.579970   45.860080      0   \n",
       "245425  20221017 2022-10-16 16:02:51    230133  174.578231   45.890111     13   \n",
       "\n",
       "        poi_id  is_prebook  is_weekend  timeblock     timeblock_start  \n",
       "159926    3305           0           0          0 2022-10-16 16:00:00  \n",
       "101287    1812           0           0          0 2022-10-16 16:00:00  \n",
       "497512     578           0           0          0 2022-10-16 16:00:00  \n",
       "389483    1116           0           0          0 2022-10-16 16:00:00  \n",
       "245425     825           0           0          0 2022-10-16 16:00:00  "
      ]
     },
     "metadata": {},
     "output_type": "display_data"
    }
   ],
   "source": [
    "display(chunked_courier.head())\n",
    "display(chunked_orders.head())"
   ]
  },
  {
   "cell_type": "code",
   "execution_count": 7,
   "id": "2f8d3ec8-3360-4e9c-a73f-ed9576cd9e87",
   "metadata": {},
   "outputs": [],
   "source": [
    "timeblocks_courier = chunked_courier.groupby(['timeblock','timeblock_start'])\\\n",
    "                    ['courier_id'].nunique().reset_index().rename(columns={'courier_id':'ct'})\n",
    "timeblocks_courier['type'] = 'courier'\n",
    "\n",
    "timeblocks_orders = chunked_orders.groupby(['timeblock','timeblock_start'])\\\n",
    "                    ['order_id'].nunique().reset_index().rename(columns={'order_id':'ct'})\n",
    "timeblocks_orders['type'] = 'orders'\n",
    "\n",
    "timeblock_data = pd.concat([timeblocks_courier,timeblocks_orders])"
   ]
  },
  {
   "cell_type": "code",
   "execution_count": 8,
   "id": "23a66b52-3479-46d0-a147-fdc4d8f10882",
   "metadata": {},
   "outputs": [
    {
     "name": "stderr",
     "output_type": "stream",
     "text": [
      "/home1/yongpeng/.conda/envs/pyepo_dsl/lib/python3.11/site-packages/seaborn/_oldcore.py:1119: FutureWarning: use_inf_as_na option is deprecated and will be removed in a future version. Convert inf values to NaN before operating instead.\n",
      "  with pd.option_context('mode.use_inf_as_na', True):\n",
      "/home1/yongpeng/.conda/envs/pyepo_dsl/lib/python3.11/site-packages/seaborn/_oldcore.py:1119: FutureWarning: use_inf_as_na option is deprecated and will be removed in a future version. Convert inf values to NaN before operating instead.\n",
      "  with pd.option_context('mode.use_inf_as_na', True):\n",
      "/home1/yongpeng/.conda/envs/pyepo_dsl/lib/python3.11/site-packages/seaborn/_oldcore.py:1075: FutureWarning: When grouping with a length-1 list-like, you will need to pass a length-1 tuple to get_group in a future version of pandas. Pass `(name,)` instead of `name` to silence this warning.\n",
      "  data_subset = grouped_data.get_group(pd_key)\n",
      "/home1/yongpeng/.conda/envs/pyepo_dsl/lib/python3.11/site-packages/seaborn/_oldcore.py:1075: FutureWarning: When grouping with a length-1 list-like, you will need to pass a length-1 tuple to get_group in a future version of pandas. Pass `(name,)` instead of `name` to silence this warning.\n",
      "  data_subset = grouped_data.get_group(pd_key)\n"
     ]
    },
    {
     "data": {
      "image/png": "[encoded data removed]",
      "text/plain": [
       "<Figure size 640x480 with 1 Axes>"
      ]
     },
     "metadata": {},
     "output_type": "display_data"
    }
   ],
   "source": [
    "sns.lineplot(data=timeblock_data, x='timeblock', y='ct', hue='type')\n",
    "plt.show()"
   ]
  },
  {
   "cell_type": "code",
   "execution_count": 9,
   "id": "1e5f5062-b93c-49e4-9978-674297473017",
   "metadata": {},
   "outputs": [],
   "source": [
    "timeblock_merge = timeblocks_courier.merge(timeblocks_orders[['timeblock','ct']].rename(columns={'ct':'order_ct'}), \n",
    "                    on='timeblock',\n",
    "                    how='left')\n",
    "timeblock_merge['courier_vs_order'] = timeblock_merge['ct']/timeblock_merge['order_ct']\n",
    "timeblock_merge = timeblock_merge.dropna()"
   ]
  },
  {
   "cell_type": "code",
   "execution_count": 10,
   "id": "c3e141d2-b31f-441f-8027-fa271c39c32b",
   "metadata": {},
   "outputs": [
    {
     "name": "stderr",
     "output_type": "stream",
     "text": [
      "/home1/yongpeng/.conda/envs/pyepo_dsl/lib/python3.11/site-packages/seaborn/_oldcore.py:1119: FutureWarning: use_inf_as_na option is deprecated and will be removed in a future version. Convert inf values to NaN before operating instead.\n",
      "  with pd.option_context('mode.use_inf_as_na', True):\n",
      "/home1/yongpeng/.conda/envs/pyepo_dsl/lib/python3.11/site-packages/seaborn/_oldcore.py:1119: FutureWarning: use_inf_as_na option is deprecated and will be removed in a future version. Convert inf values to NaN before operating instead.\n",
      "  with pd.option_context('mode.use_inf_as_na', True):\n"
     ]
    },
    {
     "data": {
      "image/png": "[encoded data removed]",
      "text/plain": [
       "<Figure size 640x480 with 1 Axes>"
      ]
     },
     "metadata": {},
     "output_type": "display_data"
    }
   ],
   "source": [
    "sns.lineplot(data=timeblock_merge, x='timeblock', y='courier_vs_order')\n",
    "plt.show()"
   ]
  },
  {
   "cell_type": "markdown",
   "id": "1a677f1b-692f-41d0-a180-3213c435dcaf",
   "metadata": {},
   "source": [
    "Courier Overlap Between Time Blocks"
   ]
  },
  {
   "cell_type": "code",
   "execution_count": 11,
   "id": "e7fc2330-fc48-447c-a14a-e71766b0d383",
   "metadata": {},
   "outputs": [
    {
     "data": {
      "text/plain": [
       "count    1337.000000\n",
       "mean        0.205977\n",
       "std         0.064469\n",
       "min         0.056604\n",
       "25%         0.161290\n",
       "50%         0.198925\n",
       "75%         0.244275\n",
       "max         0.417404\n",
       "Name: overlap_pct, dtype: float64"
      ]
     },
     "execution_count": 11,
     "metadata": {},
     "output_type": "execute_result"
    }
   ],
   "source": [
    "block_df = compare_chunk_id_overlap(df=chunked_courier, id_col=\"courier_id\")\n",
    "block_df[block_df.ids_ct > 100]['overlap_pct'].describe()"
   ]
  },
  {
   "cell_type": "markdown",
   "id": "a625473a-4884-4db8-9c8e-d168cf5dbc1a",
   "metadata": {},
   "source": [
    "Matching"
   ]
  },
  {
   "cell_type": "code",
   "execution_count": 12,
   "id": "2e939509-f690-4d61-8723-e9f0604abb62",
   "metadata": {},
   "outputs": [
    {
     "data": {
      "text/html": [
       "<div>\n",
       "<style scoped>\n",
       "    .dataframe tbody tr th:only-of-type {\n",
       "        vertical-align: middle;\n",
       "    }\n",
       "\n",
       "    .dataframe tbody tr th {\n",
       "        vertical-align: top;\n",
       "    }\n",
       "\n",
       "    .dataframe thead th {\n",
       "        text-align: right;\n",
       "    }\n",
       "</style>\n",
       "<table border=\"1\" class=\"dataframe\">\n",
       "  <thead>\n",
       "    <tr style=\"text-align: right;\">\n",
       "      <th></th>\n",
       "      <th>timeblock</th>\n",
       "      <th>timeblock_start</th>\n",
       "      <th>ids_ct</th>\n",
       "      <th>next_timeblock</th>\n",
       "      <th>overlap_count</th>\n",
       "      <th>overlap_pct</th>\n",
       "    </tr>\n",
       "  </thead>\n",
       "  <tbody>\n",
       "    <tr>\n",
       "      <th>132</th>\n",
       "      <td>132</td>\n",
       "      <td>2022-10-17 03:00:00</td>\n",
       "      <td>548</td>\n",
       "      <td>133.0</td>\n",
       "      <td>193</td>\n",
       "      <td>0.352190</td>\n",
       "    </tr>\n",
       "    <tr>\n",
       "      <th>133</th>\n",
       "      <td>133</td>\n",
       "      <td>2022-10-17 03:05:00</td>\n",
       "      <td>631</td>\n",
       "      <td>134.0</td>\n",
       "      <td>246</td>\n",
       "      <td>0.389857</td>\n",
       "    </tr>\n",
       "    <tr>\n",
       "      <th>134</th>\n",
       "      <td>134</td>\n",
       "      <td>2022-10-17 03:10:00</td>\n",
       "      <td>687</td>\n",
       "      <td>135.0</td>\n",
       "      <td>235</td>\n",
       "      <td>0.342067</td>\n",
       "    </tr>\n",
       "    <tr>\n",
       "      <th>135</th>\n",
       "      <td>135</td>\n",
       "      <td>2022-10-17 03:15:00</td>\n",
       "      <td>653</td>\n",
       "      <td>136.0</td>\n",
       "      <td>248</td>\n",
       "      <td>0.379786</td>\n",
       "    </tr>\n",
       "    <tr>\n",
       "      <th>136</th>\n",
       "      <td>136</td>\n",
       "      <td>2022-10-17 03:20:00</td>\n",
       "      <td>693</td>\n",
       "      <td>137.0</td>\n",
       "      <td>263</td>\n",
       "      <td>0.379509</td>\n",
       "    </tr>\n",
       "  </tbody>\n",
       "</table>\n",
       "</div>"
      ],
      "text/plain": [
       "     timeblock     timeblock_start  ids_ct  next_timeblock  overlap_count  \\\n",
       "132        132 2022-10-17 03:00:00     548           133.0            193   \n",
       "133        133 2022-10-17 03:05:00     631           134.0            246   \n",
       "134        134 2022-10-17 03:10:00     687           135.0            235   \n",
       "135        135 2022-10-17 03:15:00     653           136.0            248   \n",
       "136        136 2022-10-17 03:20:00     693           137.0            263   \n",
       "\n",
       "     overlap_pct  \n",
       "132     0.352190  \n",
       "133     0.389857  \n",
       "134     0.342067  \n",
       "135     0.379786  \n",
       "136     0.379509  "
      ]
     },
     "execution_count": 12,
     "metadata": {},
     "output_type": "execute_result"
    }
   ],
   "source": [
    "block_df[block_df.ids_ct > 500].head()"
   ]
  },
  {
   "cell_type": "code",
   "execution_count": 13,
   "id": "062ede1f-6bf7-4fa9-884a-06fdef102174",
   "metadata": {},
   "outputs": [
    {
     "data": {
      "text/plain": [
       "(4901, 568413)"
      ]
     },
     "execution_count": 13,
     "metadata": {},
     "output_type": "execute_result"
    }
   ],
   "source": [
    "chunked_courier.courier_id.nunique(), chunked_orders.order_id.nunique()"
   ]
  },
  {
   "cell_type": "code",
   "execution_count": 14,
   "id": "70404b40-0770-4165-a951-423f6797a433",
   "metadata": {},
   "outputs": [
    {
     "name": "stdout",
     "output_type": "stream",
     "text": [
      "548\n"
     ]
    }
   ],
   "source": [
    "tmp_courier = chunked_courier[chunked_courier.timeblock == 132].sort_values(by=['courier_id','time']).drop_duplicates(subset=['courier_id'], keep='first')\n",
    "tmp_orders = chunked_orders[chunked_orders.timeblock == 132].sort_values(by=['order_id','time']).drop_duplicates(subset=['order_id'], keep='first')\n",
    "\n",
    "min_num = min(tmp_courier.courier_id.nunique(),tmp_orders.order_id.nunique())\n",
    "if len(tmp_courier) > min_num:\n",
    "    tmp_courier = tmp_courier.sample(n=min_num, random_state=42)\n",
    "\n",
    "if len(tmp_orders) > min_num:\n",
    "    tmp_orders = tmp_orders.sample(n=min_num, random_state=42)\n",
    "\n",
    "print(min_num)\n",
    "#print(min_num, tmp_courier.courier_id.nunique(),tmp_orders.order_id.nunique())\n",
    "#display(tmp_courier.head())\n",
    "#display(tmp_orders.head())"
   ]
  },
  {
   "cell_type": "code",
   "execution_count": 15,
   "id": "db94b45d-e1b4-4277-ac57-cc9dd20ab03f",
   "metadata": {},
   "outputs": [
    {
     "name": "stdout",
     "output_type": "stream",
     "text": [
      "0.021771669387817383 21.771669387817383\n"
     ]
    }
   ],
   "source": [
    "start = time.time()\n",
    "dist = haversine_distance_matrix(tmp_courier[['grab_lat','grab_lng']].values, tmp_orders[['sender_lat','sender_lng']].values)\n",
    "row_ind, col_ind = linear_sum_assignment(dist)\n",
    "end = time.time()\n",
    "print(end - start, (end - start)*1000)"
   ]
  },
  {
   "cell_type": "code",
   "execution_count": 16,
   "id": "c0098643-df5a-46ce-afe2-2bc4489db3a3",
   "metadata": {},
   "outputs": [
    {
     "data": {
      "text/plain": [
       "948.9163979016282"
      ]
     },
     "execution_count": 16,
     "metadata": {},
     "output_type": "execute_result"
    }
   ],
   "source": [
    "matches = list(zip(row_ind, col_ind))\n",
    "total_cost = dist[row_ind, col_ind].mean()\n",
    "total_cost"
   ]
  },
  {
   "cell_type": "markdown",
   "id": "427da9f4-eeaa-47b9-a38b-c4659b7bab0f",
   "metadata": {},
   "source": [
    "# Successive Optimal Match"
   ]
  },
  {
   "cell_type": "code",
   "execution_count": 29,
   "id": "10796d02-e551-4d9a-84e9-af3899ce0bda",
   "metadata": {},
   "outputs": [],
   "source": [
    "# courier\n",
    "tmp_courier = chunked_courier[chunked_courier.timeblock.isin([132,133])].sort_values(by=['courier_id','time']).drop_duplicates(subset=['courier_id', 'timeblock'], keep='first')\n",
    "full_courier = tmp_courier.loc[tmp_courier.timeblock == 132, ['courier_id', 'grab_lng', 'grab_lat']].merge(tmp_courier.loc[tmp_courier.timeblock == 133, ['courier_id', 'grab_lng', 'grab_lat']].rename(columns={'grab_lng':'grab_lng_2', 'grab_lat': 'grab_lat_2'}),\n",
    "                                               how='outer', on='courier_id')\n",
    "\n",
    "# Fill missing with dummy coords\n",
    "full_courier[['grab_lng', 'grab_lat']] = full_courier[['grab_lng', 'grab_lat']].fillna(0)\n",
    "full_courier[['grab_lng_2', 'grab_lat_2']] = full_courier[['grab_lng_2', 'grab_lat_2']].fillna(0)\n",
    "\n",
    "\n",
    "# orders\n",
    "tmp_orders = chunked_orders[chunked_orders.timeblock.isin([132,133])].sort_values(by=['order_id','time']).drop_duplicates(subset=['order_id'], keep='first')\n",
    "orders = tmp_orders[tmp_orders['timeblock'] == 132].reset_index(drop=True)\n",
    "orders_2 = tmp_orders[tmp_orders['timeblock'] == 133].reset_index(drop=True)"
   ]
  },
  {
   "cell_type": "code",
   "execution_count": 61,
   "id": "a8b18e53-c0e2-43f5-97da-e1942beb8aff",
   "metadata": {},
   "outputs": [],
   "source": [
    "large_number = np.inf\n",
    "# Compute distances for t\n",
    "coords_A_t = full_courier[['grab_lat', 'grab_lng']].values\n",
    "coords_B_t = orders[['sender_lat', 'sender_lng']].values\n",
    "dist_t = haversine_distance_matrix(coords_A_t, coords_B_t)\n",
    "dist_t[np.all(coords_A_t == 0, axis=1), :] = large_number\n",
    "\n",
    "# Compute distances for t+1\n",
    "coords_A_t1 = full_courier[['grab_lat_2', 'grab_lng_2']].values\n",
    "coords_B_t1 = orders_2[['sender_lat', 'sender_lng']].values\n",
    "dist_t1 = haversine_distance_matrix(coords_A_t1, coords_B_t1)\n",
    "dist_t1[np.all(coords_A_t1 == 0, axis=1), :] = large_number\n",
    "\n",
    "final_dist = np.concatenate([dist_t, dist_t1], axis=1)\n",
    "match_reward = np.ceil(final_dist[final_dist != np.inf].max())\n",
    "weights = -1*(match_reward - final_dist)\n",
    "\n",
    "n, m = weights.shape\n",
    "pad_rows = m - n\n",
    "padded_weights = np.concatenate([weights, np.zeros((pad_rows, m))], axis=0)\n",
    "padded_weights[np.isinf(padded_weights)] = 0\n"
   ]
  },
  {
   "cell_type": "code",
   "execution_count": 65,
   "id": "6f72dd59-8493-43aa-92b0-888efddbb599",
   "metadata": {},
   "outputs": [],
   "source": [
    "row_ind, col_ind = linear_sum_assignment(padded_weights)"
   ]
  },
  {
   "cell_type": "code",
   "execution_count": 77,
   "id": "a54b82fc-756c-45c5-8989-b2adbe338101",
   "metadata": {},
   "outputs": [
    {
     "name": "stdout",
     "output_type": "stream",
     "text": [
      "Avg weight: 3032.5170799021\n"
     ]
    }
   ],
   "source": [
    "# Keep only matchings from the real rows (0 to n-1)\n",
    "matching = [(i, j) for i, j in zip(row_ind, col_ind) if i < n]\n",
    "match_weights = padded_weights[row_ind, col_ind]\n",
    "# Print matchings and total weight\n",
    "#print(\"Matching:\", matching)\n",
    "print(\"Avg weight:\", 50000+sum(weights[i, j] for i, j in matching)/n)\n"
   ]
  },
  {
   "cell_type": "code",
   "execution_count": 85,
   "id": "904a213a-af31-4667-8622-3fb582273953",
   "metadata": {},
   "outputs": [
    {
     "data": {
      "text/plain": [
       "3032.517079902118"
      ]
     },
     "execution_count": 85,
     "metadata": {},
     "output_type": "execute_result"
    }
   ],
   "source": [
    "(50000+match_weights[:n]).mean()"
   ]
  },
  {
   "cell_type": "markdown",
   "id": "da059f14-418f-49fe-bfc4-4c09ef37cf4e",
   "metadata": {
    "jp-MarkdownHeadingCollapsed": true
   },
   "source": [
    "# Solve using MPAX"
   ]
  },
  {
   "cell_type": "code",
   "execution_count": 53,
   "id": "7d9c8935-d2d7-429c-9933-40e7225895d3",
   "metadata": {},
   "outputs": [],
   "source": [
    "from mpax import create_lp, r2HPDHG, raPDHG\n",
    "import jax\n",
    "from jax import numpy as jnp"
   ]
  },
  {
   "cell_type": "code",
   "execution_count": null,
   "id": "ee64179f-8454-4487-8cff-1f26e8a4e840",
   "metadata": {},
   "outputs": [],
   "source": [
    "# --- c ---\n",
    "c = jnp.array(dist.flatten(), dtype=jnp.float32)\n",
    "\n",
    "# --- A ---\n",
    "# Index grid\n",
    "n = dist.shape[0]\n",
    "rows, cols = np.indices((n, n))\n",
    "rows = rows.flatten()\n",
    "cols = cols.flatten()\n",
    "\n",
    "# Row constraints: for each i, sum x[i, j] over all j\n",
    "A_eq_rows = np.zeros((n, n * n))\n",
    "A_eq_rows[np.arange(n)[:, None], (rows * n + cols).reshape(n, n)] = 1  # shape (n, n^2)\n",
    "\n",
    "# Column constraints: for each j, sum x[i, j] over all i\n",
    "A_eq_cols = np.zeros((n, n * n))\n",
    "A_eq_cols[np.arange(n)[:, None], (cols * n + rows).reshape(n, n)] = 1  # shape (n, n^2)\n",
    "\n",
    "# Combine\n",
    "A = np.vstack([A_eq_rows, A_eq_cols])  # shape (2n, n^2)\n",
    "A = jnp.array(A, dtype=jnp.float32)\n",
    "\n",
    "# --- b ---\n",
    "b = jnp.ones(2 * n)\n",
    "\n",
    "# --- bounds ---\n",
    "l = jnp.zeros(n*n)      # lower bounds: all zero\n",
    "u = jnp.ones(n*n)       # upper bounds: all one\n",
    "\n",
    "# --- inequality empty ---\n",
    "G = jnp.zeros((1, n*n))\n",
    "h = jnp.zeros((1,),)"
   ]
  },
  {
   "cell_type": "code",
   "execution_count": null,
   "id": "5a79c23e-7738-4436-b161-5274cb7447e5",
   "metadata": {},
   "outputs": [],
   "source": [
    "c, A, b, G, h, l, u"
   ]
  },
  {
   "cell_type": "code",
   "execution_count": 30,
   "id": "4e3b1dfa-e911-46f7-b6f2-c0d851e5d67b",
   "metadata": {},
   "outputs": [],
   "source": [
    "solver.check_config(lp.is_lp)"
   ]
  },
  {
   "cell_type": "code",
   "execution_count": 33,
   "id": "b7176c6e-be27-40cd-ae06-111ce514cda5",
   "metadata": {},
   "outputs": [
    {
     "data": {
      "text/plain": [
       "Array([[1., 1., 1., ..., 0., 0., 0.],\n",
       "       [0., 0., 0., ..., 0., 0., 0.],\n",
       "       [0., 0., 0., ..., 0., 0., 0.],\n",
       "       ...,\n",
       "       [0., 0., 0., ..., 0., 1., 0.],\n",
       "       [0., 0., 0., ..., 0., 0., 1.],\n",
       "       [0., 0., 0., ..., 0., 0., 0.]], dtype=float32)"
      ]
     },
     "execution_count": 33,
     "metadata": {},
     "output_type": "execute_result"
    }
   ],
   "source": [
    "lp.constraint_matrix"
   ]
  },
  {
   "cell_type": "code",
   "execution_count": 37,
   "id": "469403a5-1bca-4df6-b2ff-58549a5612f3",
   "metadata": {},
   "outputs": [
    {
     "name": "stdout",
     "output_type": "stream",
     "text": [
      "1.1872122287750244 1187.2122287750244\n"
     ]
    }
   ],
   "source": [
    "# Create LP using sparse matrix format (default)\n",
    "# Create LP using dense matrix format\n",
    "\n",
    "#what to do with G and h?\n",
    "start = time.time()\n",
    "lp = create_lp(c, A, b, G, h, l, u, use_sparse_matrix=False)\n",
    "solver = r2HPDHG(eps_abs=1e-4, eps_rel=1e-4, verbose=False)\n",
    "result = solver.optimize(lp)\n",
    "end = time.time()\n",
    "print(end - start, (end - start)*1000)"
   ]
  }
 ],
 "metadata": {
  "kernelspec": {
   "display_name": "Python (pyepo_dsl)",
   "language": "python",
   "name": "pyepo_dsl"
  },
  "language_info": {
   "codemirror_mode": {
    "name": "ipython",
    "version": 3
   },
   "file_extension": ".py",
   "mimetype": "text/x-python",
   "name": "python",
   "nbconvert_exporter": "python",
   "pygments_lexer": "ipython3",
   "version": "3.11.7"
  }
 },
 "nbformat": 4,
 "nbformat_minor": 5
}
